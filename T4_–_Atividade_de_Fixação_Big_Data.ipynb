{
  "nbformat": 4,
  "nbformat_minor": 0,
  "metadata": {
    "colab": {
      "provenance": [],
      "authorship_tag": "ABX9TyMgTI0WBw7kpN2EQdxJDfH8",
      "include_colab_link": true
    },
    "kernelspec": {
      "name": "python3",
      "display_name": "Python 3"
    },
    "language_info": {
      "name": "python"
    }
  },
  "cells": [
    {
      "cell_type": "markdown",
      "metadata": {
        "id": "view-in-github",
        "colab_type": "text"
      },
      "source": [
        "<a href=\"https://colab.research.google.com/github/JeffersonBP/Aula-_JavascriptJeff/blob/main/T4_%E2%80%93_Atividade_de_Fixa%C3%A7%C3%A3o_Big_Data.ipynb\" target=\"_parent\"><img src=\"https://colab.research.google.com/assets/colab-badge.svg\" alt=\"Open In Colab\"/></a>"
      ]
    },
    {
      "cell_type": "markdown",
      "source": [
        "\n",
        "\n",
        "\n",
        "A linha de código idade_meses = np.array([6, 7, 7, 5, 8, 4, 4, 3, 1, 1]).reshape(-1, 1) define uma variável chamada idade_meses que é um array NumPy. O array tem 10 elementos, que são as idades em meses de 10 crianças.\n",
        "\n",
        "A função reshape() é usada para alterar o formato do array. O primeiro argumento -1 indica que o número de linhas do array deve ser calculado automaticamente. O segundo argumento, 1, indica que o número de colunas deve ser 1.\n",
        "\n",
        "Portanto, o código acima cria um array de 10 linhas e 1 coluna. Cada linha contém a idade de uma criança.\n",
        "\n",
        "Aqui está um exemplo de como o array idade_meses seria impresso:\n",
        "\n",
        "\n",
        "array\n",
        "      \n",
        "      ([\n",
        "       [6],\n",
        "       [7],\n",
        "       [7],\n",
        "       [5],\n",
        "       [8],\n",
        "       [4],\n",
        "       [4],\n",
        "       [3],\n",
        "       [1],\n",
        "       [1]\n",
        "       \n",
        "       ])"
      ],
      "metadata": {
        "id": "WMdAhMQagzox"
      }
    },
    {
      "cell_type": "code",
      "source": [
        "import numpy as np\n",
        "from sklearn.neighbors import KNeighborsClassifier\n",
        "\n",
        "# Dados de idade e classe dos bebês\n",
        "idade_meses = np.array([6, 7, 7, 5, 8, 4, 4, 3, 1, 1]).reshape(-1, 1)\n",
        "classe = np.array(['A', 'B', 'B', 'A', 'A', 'A', 'C', 'C', 'B', 'A'])"
      ],
      "metadata": {
        "id": "pZMbkotgg58z"
      },
      "execution_count": null,
      "outputs": []
    },
    {
      "cell_type": "markdown",
      "source": [
        "O código knn3 = KNeighborsClassifier(n_neighbors=3) cria um classificador KNN (K-Nearest Neighbors) com 3 vizinhos.\n",
        "\n",
        "O classificador KNN é um algoritmo de aprendizado supervisionado que pode ser usado para classificar dados. Ele funciona encontrando os k vizinhos mais próximos de um dado ponto de dados e atribuindo ao ponto de dados a classe mais comum entre os vizinhos.\n",
        "\n",
        "No caso deste código, o classificador KNN está sendo usado para classificar crianças com base em suas idades. O parâmetro n_neighbors especifica o número de vizinhos a serem considerados.\n",
        "\n",
        "A linha de código knn3.fit(idade_meses, classe) treina o classificador KNN com os dados de treinamento. Os dados de treinamento são fornecidos nos argumentos idade_meses e classe.\n",
        "\n",
        "O argumento idade_meses é um array NumPy que contém as idades das crianças. O argumento classe é um array NumPy que contém as classes das crianças. Cada elemento de classe é uma string que representa a classe de uma criança.\n",
        "\n",
        "Após o treinamento, o classificador KNN pode ser usado para classificar dados novos."
      ],
      "metadata": {
        "id": "iPln8hydhsif"
      }
    },
    {
      "cell_type": "code",
      "execution_count": 1,
      "metadata": {
        "colab": {
          "base_uri": "https://localhost:8080/"
        },
        "id": "9dmjjKtMeMiN",
        "outputId": "cb1e4ffb-5441-45e5-e114-330152648ef0"
      },
      "outputs": [
        {
          "output_type": "stream",
          "name": "stdout",
          "text": [
            "Para K = 3, a classe estimada para um bebê com 7.2 meses é: B\n",
            "Para K = 5, a classe estimada para um bebê com 7.2 meses é: A\n"
          ]
        }
      ],
      "source": [
        "# Crie o modelo KNN com K = 3\n",
        "knn3 = KNeighborsClassifier(n_neighbors=3)\n",
        "knn3.fit(idade_meses, classe)\n",
        "\n",
        "# Crie o modelo KNN com K = 5\n",
        "knn5 = KNeighborsClassifier(n_neighbors=5)\n",
        "knn5.fit(idade_meses, classe)\n",
        "\n",
        "# Idade do bebê para previsão\n",
        "idade_bebe = np.array([[7.2]])\n",
        "\n",
        "# Previsão com K = 3\n",
        "previsao_k3 = knn3.predict(idade_bebe)\n",
        "print(f\"Para K = 3, a classe estimada para um bebê com 7.2 meses é: {previsao_k3[0]}\")\n",
        "\n",
        "# Previsão com K = 5\n",
        "previsao_k5 = knn5.predict(idade_bebe)\n",
        "print(f\"Para K = 5, a classe estimada para um bebê com 7.2 meses é: {previsao_k5[0]}\")\n"
      ]
    }
  ]
}